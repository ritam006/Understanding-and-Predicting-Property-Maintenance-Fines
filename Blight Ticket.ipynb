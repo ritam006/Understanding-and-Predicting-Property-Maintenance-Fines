{
 "cells": [
  {
   "cell_type": "code",
   "execution_count": 1,
   "metadata": {
    "collapsed": true
   },
   "outputs": [],
   "source": [
    "import pandas as pd\n",
    "import numpy as np\n",
    "from sklearn.svm import SVC\n",
    "from sklearn.preprocessing import LabelEncoder\n",
    "from sklearn.model_selection import train_test_split\n",
    "from sklearn.ensemble import RandomForestClassifier\n",
    "from sklearn.ensemble import GradientBoostingClassifier\n",
    "from sklearn.model_selection import train_test_split"
   ]
  },
  {
   "cell_type": "code",
   "execution_count": 2,
   "metadata": {
    "collapsed": true
   },
   "outputs": [],
   "source": [
    "train_df=pd.read_csv(filepath_or_buffer='train.csv',index_col=['ticket_id'],encoding = 'ISO-8859-1',low_memory=False )\n",
    "test_df=pd.read_csv(filepath_or_buffer='test.csv',index_col=['ticket_id'],encoding = 'ISO-8859-1',low_memory=False)    "
   ]
  },
  {
   "cell_type": "code",
   "execution_count": 3,
   "metadata": {
    "collapsed": true
   },
   "outputs": [
    {
     "data": {
      "text/html": [
       "<div>\n",
       "<style>\n",
       "    .dataframe thead tr:only-child th {\n",
       "        text-align: right;\n",
       "    }\n",
       "\n",
       "    .dataframe thead th {\n",
       "        text-align: left;\n",
       "    }\n",
       "\n",
       "    .dataframe tbody tr th {\n",
       "        vertical-align: top;\n",
       "    }\n",
       "</style>\n",
       "<table border=\"1\" class=\"dataframe\">\n",
       "  <thead>\n",
       "    <tr style=\"text-align: right;\">\n",
       "      <th></th>\n",
       "      <th>agency_name</th>\n",
       "      <th>inspector_name</th>\n",
       "      <th>violator_name</th>\n",
       "      <th>violation_street_number</th>\n",
       "      <th>violation_street_name</th>\n",
       "      <th>violation_zip_code</th>\n",
       "      <th>mailing_address_str_number</th>\n",
       "      <th>mailing_address_str_name</th>\n",
       "      <th>city</th>\n",
       "      <th>state</th>\n",
       "      <th>...</th>\n",
       "      <th>clean_up_cost</th>\n",
       "      <th>judgment_amount</th>\n",
       "      <th>payment_amount</th>\n",
       "      <th>balance_due</th>\n",
       "      <th>payment_date</th>\n",
       "      <th>payment_status</th>\n",
       "      <th>collection_status</th>\n",
       "      <th>grafitti_status</th>\n",
       "      <th>compliance_detail</th>\n",
       "      <th>compliance</th>\n",
       "    </tr>\n",
       "    <tr>\n",
       "      <th>ticket_id</th>\n",
       "      <th></th>\n",
       "      <th></th>\n",
       "      <th></th>\n",
       "      <th></th>\n",
       "      <th></th>\n",
       "      <th></th>\n",
       "      <th></th>\n",
       "      <th></th>\n",
       "      <th></th>\n",
       "      <th></th>\n",
       "      <th></th>\n",
       "      <th></th>\n",
       "      <th></th>\n",
       "      <th></th>\n",
       "      <th></th>\n",
       "      <th></th>\n",
       "      <th></th>\n",
       "      <th></th>\n",
       "      <th></th>\n",
       "      <th></th>\n",
       "      <th></th>\n",
       "    </tr>\n",
       "  </thead>\n",
       "  <tbody>\n",
       "    <tr>\n",
       "      <th>22056</th>\n",
       "      <td>Buildings, Safety Engineering &amp; Env Department</td>\n",
       "      <td>Sims, Martinzie</td>\n",
       "      <td>INVESTMENT INC., MIDWEST MORTGAGE</td>\n",
       "      <td>2900.0</td>\n",
       "      <td>TYLER</td>\n",
       "      <td>NaN</td>\n",
       "      <td>3.0</td>\n",
       "      <td>S. WICKER</td>\n",
       "      <td>CHICAGO</td>\n",
       "      <td>IL</td>\n",
       "      <td>...</td>\n",
       "      <td>0.0</td>\n",
       "      <td>305.0</td>\n",
       "      <td>0.0</td>\n",
       "      <td>305.0</td>\n",
       "      <td>NaN</td>\n",
       "      <td>NO PAYMENT APPLIED</td>\n",
       "      <td>NaN</td>\n",
       "      <td>NaN</td>\n",
       "      <td>non-compliant by no payment</td>\n",
       "      <td>0.0</td>\n",
       "    </tr>\n",
       "    <tr>\n",
       "      <th>27586</th>\n",
       "      <td>Buildings, Safety Engineering &amp; Env Department</td>\n",
       "      <td>Williams, Darrin</td>\n",
       "      <td>Michigan, Covenant House</td>\n",
       "      <td>4311.0</td>\n",
       "      <td>CENTRAL</td>\n",
       "      <td>NaN</td>\n",
       "      <td>2959.0</td>\n",
       "      <td>Martin Luther King</td>\n",
       "      <td>Detroit</td>\n",
       "      <td>MI</td>\n",
       "      <td>...</td>\n",
       "      <td>0.0</td>\n",
       "      <td>855.0</td>\n",
       "      <td>780.0</td>\n",
       "      <td>75.0</td>\n",
       "      <td>2005-06-02 00:00:00</td>\n",
       "      <td>PAID IN FULL</td>\n",
       "      <td>NaN</td>\n",
       "      <td>NaN</td>\n",
       "      <td>compliant by late payment within 1 month</td>\n",
       "      <td>1.0</td>\n",
       "    </tr>\n",
       "    <tr>\n",
       "      <th>22062</th>\n",
       "      <td>Buildings, Safety Engineering &amp; Env Department</td>\n",
       "      <td>Sims, Martinzie</td>\n",
       "      <td>SANDERS, DERRON</td>\n",
       "      <td>1449.0</td>\n",
       "      <td>LONGFELLOW</td>\n",
       "      <td>NaN</td>\n",
       "      <td>23658.0</td>\n",
       "      <td>P.O. BOX</td>\n",
       "      <td>DETROIT</td>\n",
       "      <td>MI</td>\n",
       "      <td>...</td>\n",
       "      <td>0.0</td>\n",
       "      <td>0.0</td>\n",
       "      <td>0.0</td>\n",
       "      <td>0.0</td>\n",
       "      <td>NaN</td>\n",
       "      <td>NO PAYMENT APPLIED</td>\n",
       "      <td>NaN</td>\n",
       "      <td>NaN</td>\n",
       "      <td>not responsible by disposition</td>\n",
       "      <td>NaN</td>\n",
       "    </tr>\n",
       "    <tr>\n",
       "      <th>22084</th>\n",
       "      <td>Buildings, Safety Engineering &amp; Env Department</td>\n",
       "      <td>Sims, Martinzie</td>\n",
       "      <td>MOROSI, MIKE</td>\n",
       "      <td>1441.0</td>\n",
       "      <td>LONGFELLOW</td>\n",
       "      <td>NaN</td>\n",
       "      <td>5.0</td>\n",
       "      <td>ST. CLAIR</td>\n",
       "      <td>DETROIT</td>\n",
       "      <td>MI</td>\n",
       "      <td>...</td>\n",
       "      <td>0.0</td>\n",
       "      <td>0.0</td>\n",
       "      <td>0.0</td>\n",
       "      <td>0.0</td>\n",
       "      <td>NaN</td>\n",
       "      <td>NO PAYMENT APPLIED</td>\n",
       "      <td>NaN</td>\n",
       "      <td>NaN</td>\n",
       "      <td>not responsible by disposition</td>\n",
       "      <td>NaN</td>\n",
       "    </tr>\n",
       "    <tr>\n",
       "      <th>22093</th>\n",
       "      <td>Buildings, Safety Engineering &amp; Env Department</td>\n",
       "      <td>Sims, Martinzie</td>\n",
       "      <td>NATHANIEL, NEAL</td>\n",
       "      <td>2449.0</td>\n",
       "      <td>CHURCHILL</td>\n",
       "      <td>NaN</td>\n",
       "      <td>7449.0</td>\n",
       "      <td>CHURCHILL</td>\n",
       "      <td>DETROIT</td>\n",
       "      <td>MI</td>\n",
       "      <td>...</td>\n",
       "      <td>0.0</td>\n",
       "      <td>0.0</td>\n",
       "      <td>0.0</td>\n",
       "      <td>0.0</td>\n",
       "      <td>NaN</td>\n",
       "      <td>NO PAYMENT APPLIED</td>\n",
       "      <td>NaN</td>\n",
       "      <td>NaN</td>\n",
       "      <td>not responsible by disposition</td>\n",
       "      <td>NaN</td>\n",
       "    </tr>\n",
       "  </tbody>\n",
       "</table>\n",
       "<p>5 rows × 33 columns</p>\n",
       "</div>"
      ],
      "text/plain": [
       "                                              agency_name    inspector_name  \\\n",
       "ticket_id                                                                     \n",
       "22056      Buildings, Safety Engineering & Env Department   Sims, Martinzie   \n",
       "27586      Buildings, Safety Engineering & Env Department  Williams, Darrin   \n",
       "22062      Buildings, Safety Engineering & Env Department   Sims, Martinzie   \n",
       "22084      Buildings, Safety Engineering & Env Department   Sims, Martinzie   \n",
       "22093      Buildings, Safety Engineering & Env Department   Sims, Martinzie   \n",
       "\n",
       "                               violator_name  violation_street_number  \\\n",
       "ticket_id                                                               \n",
       "22056      INVESTMENT INC., MIDWEST MORTGAGE                   2900.0   \n",
       "27586               Michigan, Covenant House                   4311.0   \n",
       "22062                        SANDERS, DERRON                   1449.0   \n",
       "22084                           MOROSI, MIKE                   1441.0   \n",
       "22093                        NATHANIEL, NEAL                   2449.0   \n",
       "\n",
       "          violation_street_name  violation_zip_code  \\\n",
       "ticket_id                                             \n",
       "22056                     TYLER                 NaN   \n",
       "27586                   CENTRAL                 NaN   \n",
       "22062                LONGFELLOW                 NaN   \n",
       "22084                LONGFELLOW                 NaN   \n",
       "22093                 CHURCHILL                 NaN   \n",
       "\n",
       "           mailing_address_str_number mailing_address_str_name     city state  \\\n",
       "ticket_id                                                                       \n",
       "22056                             3.0                S. WICKER  CHICAGO    IL   \n",
       "27586                          2959.0       Martin Luther King  Detroit    MI   \n",
       "22062                         23658.0                 P.O. BOX  DETROIT    MI   \n",
       "22084                             5.0                ST. CLAIR  DETROIT    MI   \n",
       "22093                          7449.0                CHURCHILL  DETROIT    MI   \n",
       "\n",
       "              ...     clean_up_cost judgment_amount payment_amount  \\\n",
       "ticket_id     ...                                                    \n",
       "22056         ...               0.0           305.0            0.0   \n",
       "27586         ...               0.0           855.0          780.0   \n",
       "22062         ...               0.0             0.0            0.0   \n",
       "22084         ...               0.0             0.0            0.0   \n",
       "22093         ...               0.0             0.0            0.0   \n",
       "\n",
       "          balance_due         payment_date      payment_status  \\\n",
       "ticket_id                                                        \n",
       "22056           305.0                  NaN  NO PAYMENT APPLIED   \n",
       "27586            75.0  2005-06-02 00:00:00        PAID IN FULL   \n",
       "22062             0.0                  NaN  NO PAYMENT APPLIED   \n",
       "22084             0.0                  NaN  NO PAYMENT APPLIED   \n",
       "22093             0.0                  NaN  NO PAYMENT APPLIED   \n",
       "\n",
       "          collection_status grafitti_status  \\\n",
       "ticket_id                                     \n",
       "22056                   NaN             NaN   \n",
       "27586                   NaN             NaN   \n",
       "22062                   NaN             NaN   \n",
       "22084                   NaN             NaN   \n",
       "22093                   NaN             NaN   \n",
       "\n",
       "                                  compliance_detail  compliance  \n",
       "ticket_id                                                        \n",
       "22056                   non-compliant by no payment         0.0  \n",
       "27586      compliant by late payment within 1 month         1.0  \n",
       "22062                not responsible by disposition         NaN  \n",
       "22084                not responsible by disposition         NaN  \n",
       "22093                not responsible by disposition         NaN  \n",
       "\n",
       "[5 rows x 33 columns]"
      ]
     },
     "execution_count": 3,
     "metadata": {},
     "output_type": "execute_result"
    }
   ],
   "source": [
    "train_df.head()"
   ]
  },
  {
   "cell_type": "code",
   "execution_count": 27,
   "metadata": {
    "collapsed": true
   },
   "outputs": [],
   "source": [
    "train_df=train_df[train_df['compliance'].isnull()==False]"
   ]
  },
  {
   "cell_type": "code",
   "execution_count": 29,
   "metadata": {
    "collapsed": true
   },
   "outputs": [],
   "source": [
    "columns=['agency_name','country','fine_amount','discount_amount','judgment_amount','compliance']"
   ]
  },
  {
   "cell_type": "code",
   "execution_count": 30,
   "metadata": {
    "collapsed": true
   },
   "outputs": [],
   "source": [
    "train_df=train_df[columns]"
   ]
  },
  {
   "cell_type": "code",
   "execution_count": 31,
   "metadata": {},
   "outputs": [
    {
     "data": {
      "text/html": [
       "<div>\n",
       "<style>\n",
       "    .dataframe thead tr:only-child th {\n",
       "        text-align: right;\n",
       "    }\n",
       "\n",
       "    .dataframe thead th {\n",
       "        text-align: left;\n",
       "    }\n",
       "\n",
       "    .dataframe tbody tr th {\n",
       "        vertical-align: top;\n",
       "    }\n",
       "</style>\n",
       "<table border=\"1\" class=\"dataframe\">\n",
       "  <thead>\n",
       "    <tr style=\"text-align: right;\">\n",
       "      <th></th>\n",
       "      <th>agency_name</th>\n",
       "      <th>country</th>\n",
       "      <th>fine_amount</th>\n",
       "      <th>discount_amount</th>\n",
       "      <th>judgment_amount</th>\n",
       "      <th>compliance</th>\n",
       "    </tr>\n",
       "    <tr>\n",
       "      <th>ticket_id</th>\n",
       "      <th></th>\n",
       "      <th></th>\n",
       "      <th></th>\n",
       "      <th></th>\n",
       "      <th></th>\n",
       "      <th></th>\n",
       "    </tr>\n",
       "  </thead>\n",
       "  <tbody>\n",
       "    <tr>\n",
       "      <th>22056</th>\n",
       "      <td>Buildings, Safety Engineering &amp; Env Department</td>\n",
       "      <td>USA</td>\n",
       "      <td>250.0</td>\n",
       "      <td>0.0</td>\n",
       "      <td>305.0</td>\n",
       "      <td>0.0</td>\n",
       "    </tr>\n",
       "    <tr>\n",
       "      <th>27586</th>\n",
       "      <td>Buildings, Safety Engineering &amp; Env Department</td>\n",
       "      <td>USA</td>\n",
       "      <td>750.0</td>\n",
       "      <td>0.0</td>\n",
       "      <td>855.0</td>\n",
       "      <td>1.0</td>\n",
       "    </tr>\n",
       "    <tr>\n",
       "      <th>22046</th>\n",
       "      <td>Buildings, Safety Engineering &amp; Env Department</td>\n",
       "      <td>USA</td>\n",
       "      <td>250.0</td>\n",
       "      <td>0.0</td>\n",
       "      <td>305.0</td>\n",
       "      <td>0.0</td>\n",
       "    </tr>\n",
       "    <tr>\n",
       "      <th>18738</th>\n",
       "      <td>Buildings, Safety Engineering &amp; Env Department</td>\n",
       "      <td>USA</td>\n",
       "      <td>750.0</td>\n",
       "      <td>0.0</td>\n",
       "      <td>855.0</td>\n",
       "      <td>0.0</td>\n",
       "    </tr>\n",
       "    <tr>\n",
       "      <th>18735</th>\n",
       "      <td>Buildings, Safety Engineering &amp; Env Department</td>\n",
       "      <td>USA</td>\n",
       "      <td>100.0</td>\n",
       "      <td>0.0</td>\n",
       "      <td>140.0</td>\n",
       "      <td>0.0</td>\n",
       "    </tr>\n",
       "  </tbody>\n",
       "</table>\n",
       "</div>"
      ],
      "text/plain": [
       "                                              agency_name country  \\\n",
       "ticket_id                                                           \n",
       "22056      Buildings, Safety Engineering & Env Department     USA   \n",
       "27586      Buildings, Safety Engineering & Env Department     USA   \n",
       "22046      Buildings, Safety Engineering & Env Department     USA   \n",
       "18738      Buildings, Safety Engineering & Env Department     USA   \n",
       "18735      Buildings, Safety Engineering & Env Department     USA   \n",
       "\n",
       "           fine_amount  discount_amount  judgment_amount  compliance  \n",
       "ticket_id                                                             \n",
       "22056            250.0              0.0            305.0         0.0  \n",
       "27586            750.0              0.0            855.0         1.0  \n",
       "22046            250.0              0.0            305.0         0.0  \n",
       "18738            750.0              0.0            855.0         0.0  \n",
       "18735            100.0              0.0            140.0         0.0  "
      ]
     },
     "execution_count": 31,
     "metadata": {},
     "output_type": "execute_result"
    }
   ],
   "source": [
    "train_df.head()"
   ]
  },
  {
   "cell_type": "code",
   "execution_count": 32,
   "metadata": {
    "collapsed": true
   },
   "outputs": [],
   "source": [
    "agency_encoder=LabelEncoder().fit(train_df['agency_name'])\n",
    "country_encoder=LabelEncoder().fit(train_df['country'])"
   ]
  },
  {
   "cell_type": "code",
   "execution_count": 33,
   "metadata": {
    "collapsed": true
   },
   "outputs": [],
   "source": [
    "train_df['agency_name']=agency_encoder.transform(train_df['agency_name'])\n",
    "train_df['country']=country_encoder.transform(train_df['country'])"
   ]
  },
  {
   "cell_type": "code",
   "execution_count": 36,
   "metadata": {
    "collapsed": true
   },
   "outputs": [],
   "source": [
    "X=train_df.iloc[:,:-1]\n",
    "y=train_df.iloc[:,-1]"
   ]
  },
  {
   "cell_type": "code",
   "execution_count": 37,
   "metadata": {},
   "outputs": [
    {
     "data": {
      "text/html": [
       "<div>\n",
       "<style>\n",
       "    .dataframe thead tr:only-child th {\n",
       "        text-align: right;\n",
       "    }\n",
       "\n",
       "    .dataframe thead th {\n",
       "        text-align: left;\n",
       "    }\n",
       "\n",
       "    .dataframe tbody tr th {\n",
       "        vertical-align: top;\n",
       "    }\n",
       "</style>\n",
       "<table border=\"1\" class=\"dataframe\">\n",
       "  <thead>\n",
       "    <tr style=\"text-align: right;\">\n",
       "      <th></th>\n",
       "      <th>agency_name</th>\n",
       "      <th>country</th>\n",
       "      <th>fine_amount</th>\n",
       "      <th>discount_amount</th>\n",
       "      <th>judgment_amount</th>\n",
       "    </tr>\n",
       "    <tr>\n",
       "      <th>ticket_id</th>\n",
       "      <th></th>\n",
       "      <th></th>\n",
       "      <th></th>\n",
       "      <th></th>\n",
       "      <th></th>\n",
       "    </tr>\n",
       "  </thead>\n",
       "  <tbody>\n",
       "    <tr>\n",
       "      <th>22056</th>\n",
       "      <td>0</td>\n",
       "      <td>4</td>\n",
       "      <td>250.0</td>\n",
       "      <td>0.0</td>\n",
       "      <td>305.0</td>\n",
       "    </tr>\n",
       "    <tr>\n",
       "      <th>27586</th>\n",
       "      <td>0</td>\n",
       "      <td>4</td>\n",
       "      <td>750.0</td>\n",
       "      <td>0.0</td>\n",
       "      <td>855.0</td>\n",
       "    </tr>\n",
       "    <tr>\n",
       "      <th>22046</th>\n",
       "      <td>0</td>\n",
       "      <td>4</td>\n",
       "      <td>250.0</td>\n",
       "      <td>0.0</td>\n",
       "      <td>305.0</td>\n",
       "    </tr>\n",
       "    <tr>\n",
       "      <th>18738</th>\n",
       "      <td>0</td>\n",
       "      <td>4</td>\n",
       "      <td>750.0</td>\n",
       "      <td>0.0</td>\n",
       "      <td>855.0</td>\n",
       "    </tr>\n",
       "    <tr>\n",
       "      <th>18735</th>\n",
       "      <td>0</td>\n",
       "      <td>4</td>\n",
       "      <td>100.0</td>\n",
       "      <td>0.0</td>\n",
       "      <td>140.0</td>\n",
       "    </tr>\n",
       "  </tbody>\n",
       "</table>\n",
       "</div>"
      ],
      "text/plain": [
       "           agency_name  country  fine_amount  discount_amount  judgment_amount\n",
       "ticket_id                                                                     \n",
       "22056                0        4        250.0              0.0            305.0\n",
       "27586                0        4        750.0              0.0            855.0\n",
       "22046                0        4        250.0              0.0            305.0\n",
       "18738                0        4        750.0              0.0            855.0\n",
       "18735                0        4        100.0              0.0            140.0"
      ]
     },
     "execution_count": 37,
     "metadata": {},
     "output_type": "execute_result"
    }
   ],
   "source": [
    "X.head()"
   ]
  },
  {
   "cell_type": "code",
   "execution_count": 39,
   "metadata": {},
   "outputs": [
    {
     "data": {
      "text/plain": [
       "ticket_id\n",
       "22056    0.0\n",
       "27586    1.0\n",
       "22046    0.0\n",
       "18738    0.0\n",
       "18735    0.0\n",
       "Name: compliance, dtype: float64"
      ]
     },
     "execution_count": 39,
     "metadata": {},
     "output_type": "execute_result"
    }
   ],
   "source": [
    "y.head()"
   ]
  },
  {
   "cell_type": "code",
   "execution_count": 40,
   "metadata": {
    "collapsed": true
   },
   "outputs": [],
   "source": [
    "X_train,X_test,y_train,y_test=train_test_split(X,y,random_state=0)"
   ]
  },
  {
   "cell_type": "code",
   "execution_count": 41,
   "metadata": {},
   "outputs": [
    {
     "data": {
      "text/plain": [
       "(119910, 5)"
      ]
     },
     "execution_count": 41,
     "metadata": {},
     "output_type": "execute_result"
    }
   ],
   "source": [
    "X_train.shape"
   ]
  },
  {
   "cell_type": "code",
   "execution_count": 42,
   "metadata": {},
   "outputs": [
    {
     "data": {
      "text/plain": [
       "(119910,)"
      ]
     },
     "execution_count": 42,
     "metadata": {},
     "output_type": "execute_result"
    }
   ],
   "source": [
    "y_train.shape"
   ]
  },
  {
   "cell_type": "code",
   "execution_count": 55,
   "metadata": {
    "collapsed": true
   },
   "outputs": [],
   "source": [
    "clf_gb=GradientBoostingClassifier(max_depth=3,learning_rate=0.3).fit(X_train,y_train)"
   ]
  },
  {
   "cell_type": "code",
   "execution_count": 59,
   "metadata": {
    "collapsed": true
   },
   "outputs": [],
   "source": [
    "clf=RandomForestClassifier(max_depth=3,n_estimators=10).fit(X_train,y_train)"
   ]
  },
  {
   "cell_type": "code",
   "execution_count": 60,
   "metadata": {},
   "outputs": [
    {
     "data": {
      "text/plain": [
       "0.93457593194896171"
      ]
     },
     "execution_count": 60,
     "metadata": {},
     "output_type": "execute_result"
    }
   ],
   "source": [
    "clf.score(X_test,y_test)"
   ]
  },
  {
   "cell_type": "code",
   "execution_count": 56,
   "metadata": {},
   "outputs": [
    {
     "data": {
      "text/plain": [
       "0.93465098824118087"
      ]
     },
     "execution_count": 56,
     "metadata": {},
     "output_type": "execute_result"
    }
   ],
   "source": [
    "clf_gb.score(X_test,y_test)"
   ]
  },
  {
   "cell_type": "code",
   "execution_count": 63,
   "metadata": {},
   "outputs": [],
   "source": [
    "test_df=test_df[columns[:-1]]\n",
    "test_df['agency_name']=agency_encoder.transform(test_df['agency_name'])\n",
    "test_df['country']=country_encoder.transform(test_df['country'])"
   ]
  },
  {
   "cell_type": "code",
   "execution_count": 66,
   "metadata": {},
   "outputs": [
    {
     "data": {
      "text/html": [
       "<div>\n",
       "<style>\n",
       "    .dataframe thead tr:only-child th {\n",
       "        text-align: right;\n",
       "    }\n",
       "\n",
       "    .dataframe thead th {\n",
       "        text-align: left;\n",
       "    }\n",
       "\n",
       "    .dataframe tbody tr th {\n",
       "        vertical-align: top;\n",
       "    }\n",
       "</style>\n",
       "<table border=\"1\" class=\"dataframe\">\n",
       "  <thead>\n",
       "    <tr style=\"text-align: right;\">\n",
       "      <th></th>\n",
       "      <th>agency_name</th>\n",
       "      <th>country</th>\n",
       "      <th>fine_amount</th>\n",
       "      <th>discount_amount</th>\n",
       "      <th>judgment_amount</th>\n",
       "    </tr>\n",
       "    <tr>\n",
       "      <th>ticket_id</th>\n",
       "      <th></th>\n",
       "      <th></th>\n",
       "      <th></th>\n",
       "      <th></th>\n",
       "      <th></th>\n",
       "    </tr>\n",
       "  </thead>\n",
       "  <tbody>\n",
       "    <tr>\n",
       "      <th>284932</th>\n",
       "      <td>1</td>\n",
       "      <td>4</td>\n",
       "      <td>200.0</td>\n",
       "      <td>0.0</td>\n",
       "      <td>250.0</td>\n",
       "    </tr>\n",
       "    <tr>\n",
       "      <th>285362</th>\n",
       "      <td>1</td>\n",
       "      <td>4</td>\n",
       "      <td>1000.0</td>\n",
       "      <td>0.0</td>\n",
       "      <td>1130.0</td>\n",
       "    </tr>\n",
       "    <tr>\n",
       "      <th>285361</th>\n",
       "      <td>1</td>\n",
       "      <td>4</td>\n",
       "      <td>100.0</td>\n",
       "      <td>0.0</td>\n",
       "      <td>140.0</td>\n",
       "    </tr>\n",
       "    <tr>\n",
       "      <th>285338</th>\n",
       "      <td>1</td>\n",
       "      <td>4</td>\n",
       "      <td>200.0</td>\n",
       "      <td>0.0</td>\n",
       "      <td>250.0</td>\n",
       "    </tr>\n",
       "    <tr>\n",
       "      <th>285346</th>\n",
       "      <td>1</td>\n",
       "      <td>4</td>\n",
       "      <td>100.0</td>\n",
       "      <td>0.0</td>\n",
       "      <td>140.0</td>\n",
       "    </tr>\n",
       "  </tbody>\n",
       "</table>\n",
       "</div>"
      ],
      "text/plain": [
       "           agency_name  country  fine_amount  discount_amount  judgment_amount\n",
       "ticket_id                                                                     \n",
       "284932               1        4        200.0              0.0            250.0\n",
       "285362               1        4       1000.0              0.0           1130.0\n",
       "285361               1        4        100.0              0.0            140.0\n",
       "285338               1        4        200.0              0.0            250.0\n",
       "285346               1        4        100.0              0.0            140.0"
      ]
     },
     "execution_count": 66,
     "metadata": {},
     "output_type": "execute_result"
    }
   ],
   "source": [
    "test_df.head()"
   ]
  },
  {
   "cell_type": "code",
   "execution_count": 71,
   "metadata": {
    "collapsed": true
   },
   "outputs": [],
   "source": [
    "score_rf=pd.Series(clf.predict_proba(test_df)[:,1],index=test_df.index,name='compliance',dtype=np.float32)"
   ]
  },
  {
   "cell_type": "code",
   "execution_count": 72,
   "metadata": {},
   "outputs": [
    {
     "data": {
      "text/plain": [
       "ticket_id\n",
       "284932    0.096015\n",
       "285362    0.045857\n",
       "285361    0.096015\n",
       "285338    0.096015\n",
       "285346    0.096015\n",
       "285345    0.096015\n",
       "285347    0.096015\n",
       "285342    0.096015\n",
       "285530    0.045857\n",
       "284989    0.047575\n",
       "285344    0.096015\n",
       "285343    0.045857\n",
       "285340    0.045857\n",
       "285341    0.096015\n",
       "285349    0.096015\n",
       "285348    0.096015\n",
       "284991    0.047575\n",
       "285532    0.047575\n",
       "285406    0.047575\n",
       "285001    0.042581\n",
       "285006    0.040863\n",
       "285405    0.045857\n",
       "285337    0.047575\n",
       "285496    0.096015\n",
       "285497    0.096015\n",
       "285378    0.045857\n",
       "285589    0.047575\n",
       "285585    0.096015\n",
       "285501    0.096015\n",
       "285581    0.045857\n",
       "            ...   \n",
       "376367    0.042581\n",
       "376366    0.042581\n",
       "376362    0.042581\n",
       "376363    0.107397\n",
       "376365    0.042581\n",
       "376364    0.042581\n",
       "376228    0.042581\n",
       "376265    0.042581\n",
       "376286    0.170820\n",
       "376320    0.042581\n",
       "376314    0.042581\n",
       "376327    0.170820\n",
       "376385    0.170820\n",
       "376435    0.042581\n",
       "376370    0.170820\n",
       "376434    0.096015\n",
       "376459    0.096015\n",
       "376478    0.041693\n",
       "376473    0.042581\n",
       "376484    0.042581\n",
       "376482    0.042581\n",
       "376480    0.042581\n",
       "376479    0.042581\n",
       "376481    0.042581\n",
       "376483    0.042581\n",
       "376496    0.040863\n",
       "376497    0.040863\n",
       "376499    0.096015\n",
       "376500    0.096015\n",
       "369851    0.096015\n",
       "Name: compliance, Length: 61001, dtype: float32"
      ]
     },
     "execution_count": 72,
     "metadata": {},
     "output_type": "execute_result"
    }
   ],
   "source": [
    "score_rf"
   ]
  },
  {
   "cell_type": "code",
   "execution_count": 73,
   "metadata": {
    "collapsed": true
   },
   "outputs": [],
   "source": [
    "score_gb=pd.Series(clf_gb.predict_proba(test_df)[:,1],index=test_df.index,name='compliance',dtype=np.float32)"
   ]
  },
  {
   "cell_type": "code",
   "execution_count": 74,
   "metadata": {},
   "outputs": [
    {
     "data": {
      "text/plain": [
       "ticket_id\n",
       "284932    0.063879\n",
       "285362    0.024769\n",
       "285361    0.073883\n",
       "285338    0.063879\n",
       "285346    0.073883\n",
       "285345    0.063879\n",
       "285347    0.057186\n",
       "285342    0.379956\n",
       "285530    0.024769\n",
       "284989    0.041548\n",
       "285344    0.057186\n",
       "285343    0.024769\n",
       "285340    0.024769\n",
       "285341    0.057186\n",
       "285349    0.073883\n",
       "285348    0.063879\n",
       "284991    0.041548\n",
       "285532    0.041548\n",
       "285406    0.041548\n",
       "285001    0.014717\n",
       "285006    0.008674\n",
       "285405    0.024769\n",
       "285337    0.041548\n",
       "285496    0.057186\n",
       "285497    0.063879\n",
       "285378    0.024769\n",
       "285589    0.041548\n",
       "285585    0.063879\n",
       "285501    0.073883\n",
       "285581    0.024769\n",
       "            ...   \n",
       "376367    0.038362\n",
       "376366    0.035961\n",
       "376362    0.035961\n",
       "376363    0.057743\n",
       "376365    0.038362\n",
       "376364    0.035961\n",
       "376228    0.035961\n",
       "376265    0.035961\n",
       "376286    0.306398\n",
       "376320    0.035961\n",
       "376314    0.035961\n",
       "376327    0.306398\n",
       "376385    0.306398\n",
       "376435    0.544248\n",
       "376370    0.306398\n",
       "376434    0.077084\n",
       "376459    0.065611\n",
       "376478    0.002448\n",
       "376473    0.035961\n",
       "376484    0.018209\n",
       "376482    0.014717\n",
       "376480    0.014717\n",
       "376479    0.014717\n",
       "376481    0.014717\n",
       "376483    0.035961\n",
       "376496    0.008674\n",
       "376497    0.008674\n",
       "376499    0.065611\n",
       "376500    0.065611\n",
       "369851    0.269508\n",
       "Name: compliance, Length: 61001, dtype: float32"
      ]
     },
     "execution_count": 74,
     "metadata": {},
     "output_type": "execute_result"
    }
   ],
   "source": [
    "score_gb"
   ]
  },
  {
   "cell_type": "code",
   "execution_count": null,
   "metadata": {
    "collapsed": true
   },
   "outputs": [],
   "source": []
  }
 ],
 "metadata": {
  "kernelspec": {
   "display_name": "Python [conda root]",
   "language": "python",
   "name": "conda-root-py"
  },
  "language_info": {
   "codemirror_mode": {
    "name": "ipython",
    "version": 2
   },
   "file_extension": ".py",
   "mimetype": "text/x-python",
   "name": "python",
   "nbconvert_exporter": "python",
   "pygments_lexer": "ipython2",
   "version": "2.7.13"
  }
 },
 "nbformat": 4,
 "nbformat_minor": 2
}
